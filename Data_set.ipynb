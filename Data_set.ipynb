{
  "cells": [
    {
      "cell_type": "code",
      "execution_count": 20,
      "metadata": {},
      "outputs": [
        {
          "data": {
            "text/plain": [
              "<torch._C.Generator at 0x7fb9df360910>"
            ]
          },
          "execution_count": 20,
          "metadata": {},
          "output_type": "execute_result"
        }
      ],
      "source": [
        "import torch\n",
        "from torch.utils.data import Dataset\n",
        "torch.manual_seed(1)"
      ]
    },
    {
      "cell_type": "markdown",
      "metadata": {},
      "source": [
        "# Make a simple dataset"
      ]
    },
    {
      "cell_type": "code",
      "execution_count": 21,
      "metadata": {},
      "outputs": [],
      "source": [
        "# Define class for dataset\n",
        "\n",
        "class toy_set(Dataset):\n",
        "\n",
        "    # Construct with defult values:\n",
        "    def __init__(self, length = 100,transform =None):\n",
        "        self.len = length\n",
        "        self.x = 2*torch.ones(length,2)\n",
        "        self.y = torch.ones(length,1)\n",
        "        self.transform = transform\n",
        "\n",
        "    # Gettar\n",
        "    def __getitem__ (self,index):\n",
        "        sample = self.x[index], self.y[index]\n",
        "        if self.transform:\n",
        "            sample = self.transform(sample)\n",
        "        return sample\n",
        "    \n",
        "    # Get Length\n",
        "    def __len__(self):\n",
        "        return self.len"
      ]
    },
    {
      "cell_type": "code",
      "execution_count": 22,
      "metadata": {},
      "outputs": [
        {
          "name": "stdout",
          "output_type": "stream",
          "text": [
            "Our toy_set object is <__main__.toy_set object at 0x7fb929a1d5a0>, which the index zero is equal (tensor([2., 2.]), tensor([1.])), and the len of toy_set is equal 100\n"
          ]
        }
      ],
      "source": [
        "our_dataset = toy_set()\n",
        "print(f'Our toy_set object is {our_dataset }, which the index zero is equal {our_dataset[0]}, and the len of toy_set is equal {len(our_dataset)}')"
      ]
    },
    {
      "cell_type": "code",
      "execution_count": 23,
      "metadata": {},
      "outputs": [
        {
          "name": "stdout",
          "output_type": "stream",
          "text": [
            "index:  0 , x: tensor([2., 2.]) ; y: tensor([1.])\n",
            "index:  1 , x: tensor([2., 2.]) ; y: tensor([1.])\n",
            "index:  2 , x: tensor([2., 2.]) ; y: tensor([1.])\n"
          ]
        }
      ],
      "source": [
        "for i in range(3):\n",
        "    x, y = our_dataset[i]\n",
        "    print('index: ',i, ', x:', x, '; y:',y )"
      ]
    },
    {
      "cell_type": "markdown",
      "metadata": {},
      "source": [
        "# Transform"
      ]
    },
    {
      "cell_type": "code",
      "execution_count": 49,
      "metadata": {},
      "outputs": [],
      "source": [
        "class add_mult(object):\n",
        "    def __init__(self,addx = 1,muly = 2):\n",
        "        self.addx = addx\n",
        "        self.muly = muly\n",
        "\n",
        "    def __call__(self,sample):\n",
        "        x = sample[0]\n",
        "        y = sample[1]\n",
        "        x = x + self.addx\n",
        "        y = y * self.muly\n",
        "        sample = x,y\n",
        "        return sample"
      ]
    },
    {
      "cell_type": "code",
      "execution_count": 50,
      "metadata": {},
      "outputs": [],
      "source": [
        "a_m = add_mult()\n",
        "data_set_ = toy_set(transform = a_m)"
      ]
    },
    {
      "cell_type": "code",
      "execution_count": 53,
      "metadata": {},
      "outputs": [
        {
          "data": {
            "text/plain": [
              "<__main__.toy_set at 0x7fb929971150>"
            ]
          },
          "execution_count": 53,
          "metadata": {},
          "output_type": "execute_result"
        }
      ],
      "source": [
        "data_set_"
      ]
    },
    {
      "cell_type": "code",
      "execution_count": 52,
      "metadata": {},
      "outputs": [
        {
          "name": "stdout",
          "output_type": "stream",
          "text": [
            "0 tensor([2., 2.]) tensor([1.])\n",
            "0 tensor([3., 3.]) tensor([2.])\n",
            "1 tensor([2., 2.]) tensor([1.])\n",
            "1 tensor([3., 3.]) tensor([2.])\n",
            "2 tensor([2., 2.]) tensor([1.])\n",
            "2 tensor([3., 3.]) tensor([2.])\n",
            "3 tensor([2., 2.]) tensor([1.])\n",
            "3 tensor([3., 3.]) tensor([2.])\n",
            "4 tensor([2., 2.]) tensor([1.])\n",
            "4 tensor([3., 3.]) tensor([2.])\n",
            "5 tensor([2., 2.]) tensor([1.])\n",
            "5 tensor([3., 3.]) tensor([2.])\n",
            "6 tensor([2., 2.]) tensor([1.])\n",
            "6 tensor([3., 3.]) tensor([2.])\n",
            "7 tensor([2., 2.]) tensor([1.])\n",
            "7 tensor([3., 3.]) tensor([2.])\n",
            "8 tensor([2., 2.]) tensor([1.])\n",
            "8 tensor([3., 3.]) tensor([2.])\n",
            "9 tensor([2., 2.]) tensor([1.])\n",
            "9 tensor([3., 3.]) tensor([2.])\n"
          ]
        }
      ],
      "source": [
        "for i in range(10):\n",
        "    x,y = our_dataset[i]\n",
        "    print(i, x, y)\n",
        "    x_, y_ = data_set_[i]\n",
        "    print(i,x_,y_)"
      ]
    },
    {
      "cell_type": "markdown",
      "metadata": {},
      "source": [
        "# Compose"
      ]
    },
    {
      "cell_type": "code",
      "execution_count": 54,
      "metadata": {},
      "outputs": [],
      "source": [
        "from torchvision import transforms"
      ]
    },
    {
      "cell_type": "markdown",
      "metadata": {},
      "source": [
        "Now we want to create a new transform lass that multiplies each of the elements by 100"
      ]
    },
    {
      "cell_type": "code",
      "execution_count": 55,
      "metadata": {},
      "outputs": [],
      "source": [
        "class mult(object):\n",
        "\n",
        "    # Constructor\n",
        "    def __init__(self,mult = 100):\n",
        "        self.mult = mult\n",
        "    \n",
        "    # Executor\n",
        "    def __call__(self,sample):\n",
        "        \n",
        "        x = sample[0]\n",
        "        y = sample[1]\n",
        "        x = x*self.mult\n",
        "        y = y*self.mult\n",
        "\n",
        "        sample = x,y\n",
        "\n",
        "        return sample"
      ]
    },
    {
      "cell_type": "markdown",
      "metadata": {},
      "source": [
        "Now for Combine the transforms `add_mult()` and `mult()` we have"
      ]
    },
    {
      "cell_type": "code",
      "execution_count": 56,
      "metadata": {},
      "outputs": [
        {
          "data": {
            "text/plain": [
              "Compose(\n",
              "    <__main__.add_mult object at 0x7fb9299aed10>\n",
              "    <__main__.mult object at 0x7fb9299ad4e0>\n",
              ")"
            ]
          },
          "execution_count": 56,
          "metadata": {},
          "output_type": "execute_result"
        }
      ],
      "source": [
        "data_transform = transforms.Compose([add_mult(), mult()])\n",
        "data_transform"
      ]
    },
    {
      "cell_type": "code",
      "execution_count": 57,
      "metadata": {},
      "outputs": [
        {
          "data": {
            "text/plain": [
              "(tensor([300., 300.]), tensor([200.]))"
            ]
          },
          "execution_count": 57,
          "metadata": {},
          "output_type": "execute_result"
        }
      ],
      "source": [
        "data_transform(our_dataset[0])"
      ]
    }
  ],
  "metadata": {
    "colab": {
      "provenance": []
    },
    "kernelspec": {
      "display_name": "Python 3",
      "name": "python3"
    },
    "language_info": {
      "codemirror_mode": {
        "name": "ipython",
        "version": 3
      },
      "file_extension": ".py",
      "mimetype": "text/x-python",
      "name": "python",
      "nbconvert_exporter": "python",
      "pygments_lexer": "ipython3",
      "version": "3.10.12"
    }
  },
  "nbformat": 4,
  "nbformat_minor": 0
}
