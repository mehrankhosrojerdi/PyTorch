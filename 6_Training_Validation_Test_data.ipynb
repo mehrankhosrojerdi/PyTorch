{
  "cells": [
    {
      "cell_type": "markdown",
      "metadata": {},
      "source": [
        "`Training data, Validation data, and Test data`\n",
        "\n",
        "What is Training data? Training data is the portion of the dataset used to train the machine learning model. The model learns from this data by adjusting its `parameters` (`weights` and `biases` in the case of neural networks, for instance) through the training process.  \n",
        "  \n",
        "What is Validation data? Validation data is a separate subset of the dataset that is not used during the training process. `After each training iteration or epoch`, the model's performance is evaluated on the validation data. The validation data is used to tune `hyperparameters` (like `learning rate` and `batch size`), select the best version of the model, and prevent overfitting. Overfitting occurs when the model performs well on the training data but fails to generalize to new, unseen data. Validation data helps in detecting overfitting early during the training process.  \n",
        "  \n",
        "What is Test data? Test data is another distinct subset of the dataset that is not used at all during the training and validation stages. It is kept entirely separate until the final model is selected and trained.\n",
        "\n",
        "`Training data is used for teaching the model, validation data is used for fine-tuning and model selection, and test data is used for the final evaluation of the model's performance. `\n",
        "\n"
      ]
    },
    {
      "cell_type": "code",
      "execution_count": null,
      "metadata": {
        "vscode": {
          "languageId": "plaintext"
        }
      },
      "outputs": [],
      "source": []
    }
  ],
  "metadata": {
    "colab": {
      "provenance": []
    },
    "kernelspec": {
      "display_name": "Python 3",
      "name": "python3"
    },
    "language_info": {
      "codemirror_mode": {
        "name": "ipython",
        "version": 3
      },
      "file_extension": ".py",
      "mimetype": "text/x-python",
      "name": "python",
      "nbconvert_exporter": "python",
      "pygments_lexer": "ipython3",
      "version": "3.10.12"
    }
  },
  "nbformat": 4,
  "nbformat_minor": 0
}
